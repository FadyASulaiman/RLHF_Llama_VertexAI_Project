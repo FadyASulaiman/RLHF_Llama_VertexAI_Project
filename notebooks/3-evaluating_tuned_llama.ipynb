{
 "cells": [
  {
   "cell_type": "markdown",
   "metadata": {},
   "source": [
    "# Evaluating The tuned LLama model"
   ]
  },
  {
   "cell_type": "markdown",
   "metadata": {},
   "source": [
    "For evaluating we can look at different parameters, an example of those include:\n",
    "- Training Curves:\n",
    "    - rank_loss\n",
    "    - reward\n",
    "    - kl_loss\n",
    "- Automation Metrics:\n",
    "    - Classification: Micro/Macro F1\n",
    "    - Summarization: ROUGE-L\n",
    "    - Text Generation: BLEU, ROUGE-L\n",
    "- Side by Side Evaluation:\n",
    "    - Can be done manually\n",
    "    - Can be automated: Auto SxS; using an arbiter moder instead of a human labeler"
   ]
  },
  {
   "cell_type": "markdown",
   "metadata": {},
   "source": []
  },
  {
   "cell_type": "markdown",
   "metadata": {},
   "source": []
  }
 ],
 "metadata": {
  "language_info": {
   "name": "python"
  }
 },
 "nbformat": 4,
 "nbformat_minor": 2
}
