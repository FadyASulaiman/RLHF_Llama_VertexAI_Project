{
 "cells": [
  {
   "cell_type": "markdown",
   "metadata": {},
   "source": [
    "# Evaluating The tuned LLama model"
   ]
  },
  {
   "cell_type": "markdown",
   "metadata": {},
   "source": [
    "Evaluating RLHF tuned models is still an active area of research, but training curves and side-by-side have yielded the most promising results in estimating RLHF gain."
   ]
  },
  {
   "cell_type": "markdown",
   "metadata": {},
   "source": [
    "For evaluating we can look at different parameters, an example of those include:\n",
    "- Training Curves:\n",
    "    - rank_loss\n",
    "    - reward\n",
    "    - kl_loss\n",
    "- Automation Metrics:\n",
    "    - Classification: Micro/Macro F1\n",
    "    - Summarization: ROUGE-L\n",
    "    - Text Generation: BLEU, ROUGE-L\n",
    "- Side by Side Evaluation:\n",
    "    - Can be done manually\n",
    "    - Can be automated: Auto SxS; using an arbiter moder instead of a human labeler"
   ]
  },
  {
   "cell_type": "markdown",
   "metadata": {},
   "source": [
    "### Explore results with Tensorboard"
   ]
  },
  {
   "cell_type": "code",
   "execution_count": null,
   "metadata": {},
   "outputs": [],
   "source": [
    "%load_ext tensorboard"
   ]
  },
  {
   "cell_type": "markdown",
   "metadata": {},
   "source": [
    "directory named \"reward-logs\" has been set up to contain training logs"
   ]
  },
  {
   "cell_type": "code",
   "execution_count": null,
   "metadata": {
    "vscode": {
     "languageId": "shellscript"
    }
   },
   "outputs": [],
   "source": [
    "!ls reward-logs"
   ]
  },
  {
   "cell_type": "markdown",
   "metadata": {},
   "source": [
    "The next command launches tensorboard and outputs the curves and analytics deduced from our log file related to the reward model."
   ]
  },
  {
   "cell_type": "code",
   "execution_count": null,
   "metadata": {},
   "outputs": [],
   "source": [
    "%tensorboard --logdir reward-logs --bind_all"
   ]
  },
  {
   "cell_type": "markdown",
   "metadata": {},
   "source": [
    "The next command launches tensorboard and outputs the curves and analytics deduced from our log file related to the reinforcer model."
   ]
  },
  {
   "cell_type": "code",
   "execution_count": null,
   "metadata": {},
   "outputs": [],
   "source": [
    "%tensorboard --logdir reinforcer-logs --bind_all"
   ]
  },
  {
   "cell_type": "markdown",
   "metadata": {},
   "source": [
    "port = %env PORT1"
   ]
  }
 ],
 "metadata": {
  "language_info": {
   "name": "python"
  }
 },
 "nbformat": 4,
 "nbformat_minor": 2
}
